{
  "nbformat": 4,
  "nbformat_minor": 0,
  "metadata": {
    "colab": {
      "name": "Adagrad_v2.ipynb",
      "provenance": [],
      "collapsed_sections": [
        "9HSdD5pyP8sq"
      ]
    },
    "kernelspec": {
      "name": "python3",
      "display_name": "Python 3"
    },
    "accelerator": "GPU"
  },
  "cells": [
    {
      "cell_type": "markdown",
      "metadata": {
        "id": "myXil-jvorqT",
        "colab_type": "text"
      },
      "source": [
        "# Adagrad Project: CiFAR10 Image Classification\n",
        "This notebook demonstrates image classification on the, \n",
        " \n",
        "\n",
        "*   CiFar10 dataset, imported from the `tensorflow.keras.datasets` API,\n",
        "*   using Visual Geometry Group (VGG)-16 Deep Neural Network,\n",
        "*   with initial weights set to pre-trained parameters on the ImageNet Dataset.\n",
        "\n",
        "The model features a custom classifier designed to classify the 10 classes in the CiFAR10 dataset. </br> All layers are further trained to achieve maximum `val_accuracy`\n",
        "\n",
        "\n",
        "\n",
        " \n",
        "<!--import tensorflow as tf\n",
        "cluster_resolver = tf.distribute.cluster_resolver.TPUClusterResolver()\n",
        "tf.config.experimental_connect_to_cluster(cluster_resolver)\n",
        "tf.tpu.experimental.initialize_tpu_system(cluster_resolver)\n",
        "tpu_strategy = tf.distribute.experimental.TPUStrategy(cluster_resolver)-->"
      ]
    },
    {
      "cell_type": "markdown",
      "metadata": {
        "id": "nbPF6LhSpB7N",
        "colab_type": "text"
      },
      "source": [
        "## Dependencies"
      ]
    },
    {
      "cell_type": "code",
      "metadata": {
        "id": "5-3W2UzKlROg",
        "colab_type": "code",
        "colab": {}
      },
      "source": [
        "import numpy as np\n",
        "import pandas as pd\n",
        "from sklearn.model_selection import train_test_split\n",
        "import matplotlib.pyplot as plt\n",
        "import os\n",
        "import tensorflow as tf\n",
        "from tensorflow import keras\n",
        "from tensorflow.keras import datasets, layers, models, Sequential\n",
        "from tensorflow.keras.optimizers import Adam\n",
        "#import tensorflow_datasets as tfds\n",
        "#from keras.preprocessing.image import ImageDataGenerator\n",
        "#tfds.disable_progress_bar()\n"
      ],
      "execution_count": 1,
      "outputs": []
    },
    {
      "cell_type": "markdown",
      "metadata": {
        "id": "AgJjcKsyqf7b",
        "colab_type": "text"
      },
      "source": [
        "\n",
        "  ## Helper Functions"
      ]
    },
    {
      "cell_type": "code",
      "metadata": {
        "id": "cc31Hka0cIFm",
        "colab_type": "code",
        "colab": {}
      },
      "source": [
        "def get_keras_data():\n",
        "  (x_train,y_train),(x_test,y_test) = keras.datasets.cifar10.load_data()\n",
        "  \n",
        "  #Normalise X values to between -1 to 1\n",
        "  return x_train/127 - 1, y_train, x_test/127 - 1 ,y_test\n",
        "\n",
        "\n",
        "def create_model():\n",
        "  base_model = tf.keras.applications.vgg16.VGG16(include_top=False, weights='imagenet', input_shape=(32,32,3))\n",
        "  base_model.trainable = True\n",
        "\n",
        "  #Make Sequential class instance to add classifier layers\n",
        "  model = Sequential(base_model)\n",
        "  model.add(layers.GlobalAveragePooling2D())\n",
        "  model.add(layers.Dense(10,activation='softmax'))\n",
        "\n",
        "  return model\n"
      ],
      "execution_count": 2,
      "outputs": []
    },
    {
      "cell_type": "markdown",
      "metadata": {
        "id": "9HSdD5pyP8sq",
        "colab_type": "text"
      },
      "source": [
        "## Display sample image"
      ]
    },
    {
      "cell_type": "code",
      "metadata": {
        "id": "i9gZeqdEKDHB",
        "colab_type": "code",
        "colab": {}
      },
      "source": [
        "#Generate training and test dataset\n",
        "x_train, y_train, x_test, y_test = get_keras_data()"
      ],
      "execution_count": null,
      "outputs": []
    },
    {
      "cell_type": "code",
      "metadata": {
        "id": "p-rqHUjEO9Kt",
        "colab_type": "code",
        "colab": {
          "base_uri": "https://localhost:8080/",
          "height": 284
        },
        "outputId": "d46e8201-5ee8-4084-992a-e6d51089cb90"
      },
      "source": [
        "img = x_train[0].reshape((32,32,3))\n",
        "plt.imshow(img,aspect=\"auto\")\n",
        "plt.show()"
      ],
      "execution_count": 4,
      "outputs": [
        {
          "output_type": "stream",
          "text": [
            "Clipping input data to the valid range for imshow with RGB data ([0..1] for floats or [0..255] for integers).\n"
          ],
          "name": "stderr"
        },
        {
          "output_type": "display_data",
          "data": {
            "image/png": "[encoded data removed]",
            "text/plain": [
              "<Figure size 432x288 with 1 Axes>"
            ]
          },
          "metadata": {
            "tags": [],
            "needs_background": "light"
          }
        }
      ]
    },
    {
      "cell_type": "markdown",
      "metadata": {
        "id": "Jei-EYlPaDd0",
        "colab_type": "text"
      },
      "source": [
        "## Train the model\n",
        "....base Model Visual Geometry Group (VGG16)\n",
        "<!-- #callbacks = [tf.keras.callbacks.EarlyStopping(monitor='accuracy', baseline=0.98, min_delta=0.001, patience=1, mode='auto')] -->"
      ]
    },
    {
      "cell_type": "markdown",
      "metadata": {
        "id": "w86XZF9J5hz8",
        "colab_type": "text"
      },
      "source": [
        "### Distribution Strategy on GPUs\n",
        "...using `tensorflow.distribute.MirroredStrategy` for faster training\n",
        "\n",
        "\n"
      ]
    },
    {
      "cell_type": "code",
      "metadata": {
        "id": "PieeiLUJlXB_",
        "colab_type": "code",
        "colab": {
          "base_uri": "https://localhost:8080/",
          "height": 329
        },
        "outputId": "68c7fcba-07c3-4d65-c63a-079c24cc4c61"
      },
      "source": [
        "mirrored_strategy = tf.distribute.MirroredStrategy()\n",
        "with mirrored_strategy.scope():\n",
        "  model = create_model()\n",
        "model.summary()"
      ],
      "execution_count": 5,
      "outputs": [
        {
          "output_type": "stream",
          "text": [
            "INFO:tensorflow:Using MirroredStrategy with devices ('/job:localhost/replica:0/task:0/device:GPU:0',)\n",
            "Downloading data from https://storage.googleapis.com/tensorflow/keras-applications/vgg16/vgg16_weights_tf_dim_ordering_tf_kernels_notop.h5\n",
            "58892288/58889256 [==============================] - 1s 0us/step\n",
            "Model: \"sequential\"\n",
            "_________________________________________________________________\n",
            "Layer (type)                 Output Shape              Param #   \n",
            "=================================================================\n",
            "vgg16 (Model)                (None, 1, 1, 512)         14714688  \n",
            "_________________________________________________________________\n",
            "global_average_pooling2d (Gl (None, 512)               0         \n",
            "_________________________________________________________________\n",
            "dense (Dense)                (None, 10)                5130      \n",
            "=================================================================\n",
            "Total params: 14,719,818\n",
            "Trainable params: 14,719,818\n",
            "Non-trainable params: 0\n",
            "_________________________________________________________________\n"
          ],
          "name": "stdout"
        }
      ]
    },
    {
      "cell_type": "markdown",
      "metadata": {
        "id": "-kw8mj9D8Dpn",
        "colab_type": "text"
      },
      "source": [
        "Listing out number of available GPUs"
      ]
    },
    {
      "cell_type": "code",
      "metadata": {
        "id": "jLm_LmU01ZnL",
        "colab_type": "code",
        "colab": {}
      },
      "source": [
        " len(tf.config.experimental.list_physical_devices('GPU'))"
      ],
      "execution_count": null,
      "outputs": []
    },
    {
      "cell_type": "markdown",
      "metadata": {
        "id": "y7fKZGaP8LsO",
        "colab_type": "text"
      },
      "source": [
        "### Compile Model\n",
        "Optimizer: `ADAM`</br>\n",
        "Loss: `sparse_categorical_crossentropy`</br>\n",
        "Metric: `accuracy`</br>\n",
        "Learning Rate: `0.0001`"
      ]
    },
    {
      "cell_type": "code",
      "metadata": {
        "id": "yZLK8v_8labu",
        "colab_type": "code",
        "colab": {}
      },
      "source": [
        "model.compile(Adam(0.0001),loss=\"sparse_categorical_crossentropy\",metrics=[\"accuracy\"])"
      ],
      "execution_count": 10,
      "outputs": []
    },
    {
      "cell_type": "markdown",
      "metadata": {
        "id": "EMgSB4KtDNYl",
        "colab_type": "text"
      },
      "source": [
        "...training for 12 epochs!"
      ]
    },
    {
      "cell_type": "code",
      "metadata": {
        "id": "_ZseR-VCloRy",
        "colab_type": "code",
        "colab": {
          "base_uri": "https://localhost:8080/",
          "height": 661
        },
        "outputId": "0a13be5d-c5cd-4b7b-c714-dce60d112b85"
      },
      "source": [
        "history = model.fit(x_train,y_train,batch_size=64,epochs=12,validation_split=0.2) # VGG16 lr=0.0001 imagenet weights"
      ],
      "execution_count": 11,
      "outputs": [
        {
          "output_type": "stream",
          "text": [
            "Epoch 1/12\n",
            "INFO:tensorflow:Reduce to /job:localhost/replica:0/task:0/device:CPU:0 then broadcast to ('/job:localhost/replica:0/task:0/device:CPU:0',).\n",
            "INFO:tensorflow:Reduce to /job:localhost/replica:0/task:0/device:CPU:0 then broadcast to ('/job:localhost/replica:0/task:0/device:CPU:0',).\n",
            "INFO:tensorflow:Reduce to /job:localhost/replica:0/task:0/device:CPU:0 then broadcast to ('/job:localhost/replica:0/task:0/device:CPU:0',).\n",
            "INFO:tensorflow:Reduce to /job:localhost/replica:0/task:0/device:CPU:0 then broadcast to ('/job:localhost/replica:0/task:0/device:CPU:0',).\n",
            "INFO:tensorflow:Reduce to /job:localhost/replica:0/task:0/device:CPU:0 then broadcast to ('/job:localhost/replica:0/task:0/device:CPU:0',).\n",
            "INFO:tensorflow:Reduce to /job:localhost/replica:0/task:0/device:CPU:0 then broadcast to ('/job:localhost/replica:0/task:0/device:CPU:0',).\n",
            "INFO:tensorflow:Reduce to /job:localhost/replica:0/task:0/device:CPU:0 then broadcast to ('/job:localhost/replica:0/task:0/device:CPU:0',).\n",
            "INFO:tensorflow:Reduce to /job:localhost/replica:0/task:0/device:CPU:0 then broadcast to ('/job:localhost/replica:0/task:0/device:CPU:0',).\n",
            "625/625 [==============================] - ETA: 0s - accuracy: 0.7128 - loss: 0.8267INFO:tensorflow:Reduce to /job:localhost/replica:0/task:0/device:CPU:0 then broadcast to ('/job:localhost/replica:0/task:0/device:CPU:0',).\n",
            "INFO:tensorflow:Reduce to /job:localhost/replica:0/task:0/device:CPU:0 then broadcast to ('/job:localhost/replica:0/task:0/device:CPU:0',).\n",
            "625/625 [==============================] - 53s 85ms/step - accuracy: 0.7128 - loss: 0.8267 - val_accuracy: 0.8038 - val_loss: 0.5675\n",
            "Epoch 2/12\n",
            "625/625 [==============================] - 52s 83ms/step - accuracy: 0.8331 - loss: 0.4837 - val_accuracy: 0.8298 - val_loss: 0.4944\n",
            "Epoch 3/12\n",
            "625/625 [==============================] - 53s 84ms/step - accuracy: 0.8824 - loss: 0.3387 - val_accuracy: 0.8453 - val_loss: 0.4529\n",
            "Epoch 4/12\n",
            "625/625 [==============================] - 53s 85ms/step - accuracy: 0.9182 - loss: 0.2360 - val_accuracy: 0.8402 - val_loss: 0.5115\n",
            "Epoch 5/12\n",
            "625/625 [==============================] - 53s 85ms/step - accuracy: 0.9455 - loss: 0.1595 - val_accuracy: 0.8476 - val_loss: 0.4827\n",
            "Epoch 6/12\n",
            "625/625 [==============================] - 54s 86ms/step - accuracy: 0.9583 - loss: 0.1199 - val_accuracy: 0.8438 - val_loss: 0.5326\n",
            "Epoch 7/12\n",
            "625/625 [==============================] - 53s 84ms/step - accuracy: 0.9706 - loss: 0.0837 - val_accuracy: 0.8405 - val_loss: 0.6095\n",
            "Epoch 8/12\n",
            "625/625 [==============================] - 52s 83ms/step - accuracy: 0.9743 - loss: 0.0733 - val_accuracy: 0.8536 - val_loss: 0.6056\n",
            "Epoch 9/12\n",
            "625/625 [==============================] - 52s 83ms/step - accuracy: 0.9795 - loss: 0.0617 - val_accuracy: 0.8580 - val_loss: 0.5674\n",
            "Epoch 10/12\n",
            "625/625 [==============================] - 52s 83ms/step - accuracy: 0.9819 - loss: 0.0532 - val_accuracy: 0.8544 - val_loss: 0.6541\n",
            "Epoch 11/12\n",
            "625/625 [==============================] - 52s 83ms/step - accuracy: 0.9816 - loss: 0.0553 - val_accuracy: 0.8542 - val_loss: 0.6136\n",
            "Epoch 12/12\n",
            "625/625 [==============================] - 52s 83ms/step - accuracy: 0.9850 - loss: 0.0456 - val_accuracy: 0.8547 - val_loss: 0.5967\n"
          ],
          "name": "stdout"
        }
      ]
    },
    {
      "cell_type": "markdown",
      "metadata": {
        "id": "aKNTiZfmYm4h",
        "colab_type": "text"
      },
      "source": [
        "## Inferences"
      ]
    },
    {
      "cell_type": "code",
      "metadata": {
        "id": "B2gsDs2xMyIq",
        "colab_type": "code",
        "colab": {
          "base_uri": "https://localhost:8080/",
          "height": 72
        },
        "outputId": "0a1f6897-adbe-4bb5-c9ed-5b0e502a96e3"
      },
      "source": [
        "import time\n",
        "toc = time.time()\n",
        "results = model.evaluate(x_test,y_test,batch_size=64, return_dict=True)\n",
        "tic = time.time()\n",
        "print(results)\n",
        "print('Latency: {} milli-seconds'.format((tic-toc)*1000))"
      ],
      "execution_count": 14,
      "outputs": [
        {
          "output_type": "stream",
          "text": [
            "157/157 [==============================] - 4s 28ms/step - accuracy: 0.8505 - loss: 0.6111\n",
            "{'accuracy': 0.8504999876022339, 'loss': 0.611142098903656}\n",
            "Latency: 4817.401170730591 milli-seconds\n"
          ],
          "name": "stdout"
        }
      ]
    },
    {
      "cell_type": "markdown",
      "metadata": {
        "id": "sdLpLxQKAh3R",
        "colab_type": "text"
      },
      "source": [
        "### Saving Test data\n",
        "...as `.csv`"
      ]
    },
    {
      "cell_type": "code",
      "metadata": {
        "id": "7Mrn_Lxl_zMq",
        "colab_type": "code",
        "colab": {}
      },
      "source": [
        "x_test_all = x_test.reshape(x_test.shape[0],32*32,3)\n",
        "pd.DataFrame(x_test_all[:][:][0]).to_csv('x_test_channelR.csv')\n",
        "pd.DataFrame(x_test_all[:][:][1]).to_csv('x_test_channelG.csv')\n",
        "pd.DataFrame(x_test_all[:][:][2]).to_csv('x_test_channelB.csv')\n",
        "pd.DataFrame(y_test).to_csv('y_test.csv')"
      ],
      "execution_count": 30,
      "outputs": []
    },
    {
      "cell_type": "markdown",
      "metadata": {
        "id": "4DeoC8DKCNdV",
        "colab_type": "text"
      },
      "source": [
        "...and as `.npy`"
      ]
    },
    {
      "cell_type": "code",
      "metadata": {
        "id": "6OCbCCrJBhg3",
        "colab_type": "code",
        "colab": {}
      },
      "source": [
        "np.save('x-test', x_test)\n",
        "np.save('y-test', y_test)"
      ],
      "execution_count": 33,
      "outputs": []
    },
    {
      "cell_type": "markdown",
      "metadata": {
        "id": "pAZOzUk6Jd65",
        "colab_type": "text"
      },
      "source": [
        "## Saving the model to disk"
      ]
    },
    {
      "cell_type": "code",
      "metadata": {
        "id": "x1NforNb3U88",
        "colab_type": "code",
        "colab": {
          "base_uri": "https://localhost:8080/",
          "height": 110
        },
        "outputId": "bedd2de0-0a6b-4610-9d31-cfdddfc7f7c6"
      },
      "source": [
        "model.save('vgg16_imagenet_0001')"
      ],
      "execution_count": 15,
      "outputs": [
        {
          "output_type": "stream",
          "text": [
            "WARNING:tensorflow:From /usr/local/lib/python3.6/dist-packages/tensorflow/python/ops/resource_variable_ops.py:1817: calling BaseResourceVariable.__init__ (from tensorflow.python.ops.resource_variable_ops) with constraint is deprecated and will be removed in a future version.\n",
            "Instructions for updating:\n",
            "If using Keras pass *_constraint arguments to layers.\n",
            "INFO:tensorflow:Assets written to: vgg16_imagenet_0001/assets\n"
          ],
          "name": "stdout"
        }
      ]
    },
    {
      "cell_type": "markdown",
      "metadata": {
        "id": "udLlJH6vDrod",
        "colab_type": "text"
      },
      "source": [
        "### Create Zip of model to download"
      ]
    },
    {
      "cell_type": "code",
      "metadata": {
        "id": "1KtqZ5WB9iM9",
        "colab_type": "code",
        "colab": {}
      },
      "source": [
        "!zip -r -q VGG16 vgg16_imagenet_0001/"
      ],
      "execution_count": 16,
      "outputs": []
    }
  ]
}